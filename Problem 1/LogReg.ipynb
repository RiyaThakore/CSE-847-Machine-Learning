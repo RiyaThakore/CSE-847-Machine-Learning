{
  "nbformat": 4,
  "nbformat_minor": 0,
  "metadata": {
    "colab": {
      "name": "LogReg.ipynb",
      "provenance": []
    },
    "kernelspec": {
      "name": "python3",
      "display_name": "Python 3"
    },
    "language_info": {
      "name": "python"
    }
  },
  "cells": [
    {
      "cell_type": "code",
      "source": [
        "!git clone https://github.com/jiayuzhou/CSE847.git"
      ],
      "metadata": {
        "colab": {
          "base_uri": "https://localhost:8080/"
        },
        "id": "pfmEDbCQOw18",
        "outputId": "b502f866-e0f1-4b82-fcf6-022c25730c12"
      },
      "execution_count": 1,
      "outputs": [
        {
          "output_type": "stream",
          "name": "stdout",
          "text": [
            "Cloning into 'CSE847'...\n",
            "remote: Enumerating objects: 42, done.\u001b[K\n",
            "remote: Counting objects: 100% (8/8), done.\u001b[K\n",
            "remote: Compressing objects: 100% (8/8), done.\u001b[K\n",
            "remote: Total 42 (delta 3), reused 0 (delta 0), pack-reused 34\u001b[K\n",
            "Unpacking objects: 100% (42/42), done.\n"
          ]
        }
      ]
    },
    {
      "cell_type": "code",
      "source": [
        "import numpy as np\n",
        "import matplotlib.pyplot as plt\n",
        "\n",
        "def predictOp(X, w):\n",
        "    return 1/(1+np.exp(-X@w))\n",
        "\n",
        "def logReg(spam_data, spam_labels, eps=1e-5, max=1000):\n",
        "    wt = np.zeros((spam_data.shape[1],1))\n",
        "    op = predictOp(spam_data, wt)\n",
        "    total = eps+1\n",
        "    n = spam_data.shape[0]\n",
        "    i = 0\n",
        "    \n",
        "    while i < max and total > eps:\n",
        "        g = np.mean(spam_data.T @ (spam_labels - op), 1).reshape(-1, 1)\n",
        "        wt += (1e-4) * g\n",
        "        i += 1\n",
        "        if i>1:\n",
        "            total = np.mean(np.abs(op - predictOp(spam_data, wt)))\n",
        "        op = predictOp(spam_data, wt)\n",
        "    return wt\n",
        "\n",
        "def evaluate(n):\n",
        "    w = logReg(X_train[:n], y_train[:n])\n",
        "    return (((X_test@w)>0) == y_test).mean()\n",
        "\n",
        "x_data = [[float(i) for i in line.strip().split('  ')] for line in open('/content/CSE847/data/spam_email/data.txt', 'r').readlines()]\n",
        "y_data = [float(line.strip()) for line in open('/content/CSE847/data/spam_email/labels.txt', 'r').readlines()]\n",
        "\n",
        "x_data = np.array(x_data)\n",
        "x_data = np.concatenate([x_data, np.ones([x_data.shape[0], 1])], 1)\n",
        "y_data= np.array(y_data).reshape(-1, 1)\n",
        "\n",
        "X_test = x_data[2000:]\n",
        "y_test = y_data[2000:]\n",
        "X_train = x_data[:2000]\n",
        "y_train = y_data[:2000]\n",
        "\n",
        "accuracy=[]\n",
        "rows = [200, 500, 800, 1000, 1500, 2000]\n",
        "for n in [200, 500, 800, 1000, 1500, 2000]:\n",
        "    accuracy.append((evaluate(n)))\n",
        "\n",
        "print('rows:',rows)\n",
        "print('accuracy:',accuracy)\n",
        "plt.plot(rows, accuracy)\n",
        "plt.show()"
      ],
      "metadata": {
        "colab": {
          "base_uri": "https://localhost:8080/",
          "height": 300
        },
        "id": "yK_Rpk97OkRz",
        "outputId": "c38071cc-5d56-4e95-b29b-9f0e091ea400"
      },
      "execution_count": 13,
      "outputs": [
        {
          "output_type": "stream",
          "name": "stdout",
          "text": [
            "rows: [200, 500, 800, 1000, 1500, 2000]\n",
            "accuracy: [0.9242599000384467, 0.928873510188389, 0.9304113802383699, 0.9304113802383699, 0.9342560553633218, 0.936562860438293]\n"
          ]
        },
        {
          "output_type": "display_data",
          "data": {
            "text/plain": [
              "<Figure size 432x288 with 1 Axes>"
            ],
            "image/png": "[encoded data removed]"
          },
          "metadata": {
            "needs_background": "light"
          }
        }
      ]
    }
  ]
}